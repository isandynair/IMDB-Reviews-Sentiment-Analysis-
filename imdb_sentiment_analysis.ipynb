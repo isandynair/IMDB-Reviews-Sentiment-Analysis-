{
 "cells": [
  {
   "cell_type": "markdown",
   "metadata": {},
   "source": [
    "## Get Data using Kaggle API"
   ]
  },
  {
   "cell_type": "code",
   "execution_count": 1,
   "metadata": {
    "colab": {
     "base_uri": "https://localhost:8080/"
    },
    "id": "PghH0xxpabU6",
    "outputId": "707976ea-1519-42c2-d795-b917025e6044"
   },
   "outputs": [
    {
     "name": "stdout",
     "output_type": "stream",
     "text": [
      "Mounted at /content/drive\n"
     ]
    }
   ],
   "source": [
    "from google.colab import drive\n",
    "drive.mount('/content/drive')"
   ]
  },
  {
   "cell_type": "code",
   "execution_count": 2,
   "metadata": {
    "colab": {
     "base_uri": "https://localhost:8080/"
    },
    "id": "8AwCBFR7CKQ7",
    "outputId": "adc3b7bf-4f6c-445c-8195-d1946fb247b0"
   },
   "outputs": [
    {
     "name": "stdout",
     "output_type": "stream",
     "text": [
      "/content/drive/My Drive/Kaggle\n",
      "Downloading imdb-dataset-of-50k-movie-reviews.zip to /content/drive/My Drive/Kaggle\n",
      " 86% 22.0M/25.7M [00:00<00:00, 42.0MB/s]\n",
      "100% 25.7M/25.7M [00:00<00:00, 85.9MB/s]\n"
     ]
    }
   ],
   "source": [
    "import os\n",
    "os.environ['KAGGLE_CONFIG_DIR'] = \"/content/drive/My Drive/Kaggle\"\n",
    "\n",
    "%cd /content/drive/My Drive/Kaggle\n",
    "\n",
    "!kaggle datasets download -d lakshmi25npathi/imdb-dataset-of-50k-movie-reviews"
   ]
  },
  {
   "cell_type": "code",
   "execution_count": 3,
   "metadata": {
    "colab": {
     "base_uri": "https://localhost:8080/"
    },
    "id": "9tLEoIcbClTG",
    "outputId": "ddc23815-16e8-44d4-99df-4a9a179daef3"
   },
   "outputs": [
    {
     "name": "stdout",
     "output_type": "stream",
     "text": [
      "Archive:  imdb-dataset-of-50k-movie-reviews.zip\n",
      "  inflating: IMDB Dataset.csv        \n"
     ]
    }
   ],
   "source": [
    "!unzip \\*.zip  && rm *.zip"
   ]
  },
  {
   "cell_type": "code",
   "execution_count": 4,
   "metadata": {
    "id": "ZTph_ZtjCwpD"
   },
   "outputs": [],
   "source": [
    "%mkdir imdb_sentiment_analysis\n",
    "%mv 'IMDB Dataset.csv' ./imdb_sentiment_analysis"
   ]
  },
  {
   "cell_type": "markdown",
   "metadata": {},
   "source": [
    "## EDA"
   ]
  },
  {
   "cell_type": "code",
   "execution_count": 5,
   "metadata": {
    "colab": {
     "base_uri": "https://localhost:8080/",
     "height": 204
    },
    "id": "zMN-ipxf5k4P",
    "outputId": "7e567e5f-b90a-40da-c68f-2f7b5e383838"
   },
   "outputs": [
    {
     "data": {
      "text/html": [
       "<div>\n",
       "<style scoped>\n",
       "    .dataframe tbody tr th:only-of-type {\n",
       "        vertical-align: middle;\n",
       "    }\n",
       "\n",
       "    .dataframe tbody tr th {\n",
       "        vertical-align: top;\n",
       "    }\n",
       "\n",
       "    .dataframe thead th {\n",
       "        text-align: right;\n",
       "    }\n",
       "</style>\n",
       "<table border=\"1\" class=\"dataframe\">\n",
       "  <thead>\n",
       "    <tr style=\"text-align: right;\">\n",
       "      <th></th>\n",
       "      <th>review</th>\n",
       "      <th>sentiment</th>\n",
       "    </tr>\n",
       "  </thead>\n",
       "  <tbody>\n",
       "    <tr>\n",
       "      <th>0</th>\n",
       "      <td>One of the other reviewers has mentioned that ...</td>\n",
       "      <td>positive</td>\n",
       "    </tr>\n",
       "    <tr>\n",
       "      <th>1</th>\n",
       "      <td>A wonderful little production. &lt;br /&gt;&lt;br /&gt;The...</td>\n",
       "      <td>positive</td>\n",
       "    </tr>\n",
       "    <tr>\n",
       "      <th>2</th>\n",
       "      <td>I thought this was a wonderful way to spend ti...</td>\n",
       "      <td>positive</td>\n",
       "    </tr>\n",
       "    <tr>\n",
       "      <th>3</th>\n",
       "      <td>Basically there's a family where a little boy ...</td>\n",
       "      <td>negative</td>\n",
       "    </tr>\n",
       "    <tr>\n",
       "      <th>4</th>\n",
       "      <td>Petter Mattei's \"Love in the Time of Money\" is...</td>\n",
       "      <td>positive</td>\n",
       "    </tr>\n",
       "  </tbody>\n",
       "</table>\n",
       "</div>"
      ],
      "text/plain": [
       "                                              review sentiment\n",
       "0  One of the other reviewers has mentioned that ...  positive\n",
       "1  A wonderful little production. <br /><br />The...  positive\n",
       "2  I thought this was a wonderful way to spend ti...  positive\n",
       "3  Basically there's a family where a little boy ...  negative\n",
       "4  Petter Mattei's \"Love in the Time of Money\" is...  positive"
      ]
     },
     "execution_count": 5,
     "metadata": {
      "tags": []
     },
     "output_type": "execute_result"
    }
   ],
   "source": [
    "import pandas as pd\n",
    "import matplotlib.pyplot as plt\n",
    "\n",
    "df = pd.read_csv('/content/drive/MyDrive/Kaggle/imdb_sentiment_analysis/IMDB Dataset.csv')\n",
    "df.head()"
   ]
  },
  {
   "cell_type": "code",
   "execution_count": 6,
   "metadata": {
    "colab": {
     "base_uri": "https://localhost:8080/"
    },
    "id": "t32LJIxH5k4X",
    "outputId": "c470eae9-7879-42e1-cdcf-cd737d377dc4"
   },
   "outputs": [
    {
     "data": {
      "text/plain": [
       "50000"
      ]
     },
     "execution_count": 6,
     "metadata": {
      "tags": []
     },
     "output_type": "execute_result"
    }
   ],
   "source": [
    "len(df)"
   ]
  },
  {
   "cell_type": "code",
   "execution_count": 7,
   "metadata": {
    "colab": {
     "base_uri": "https://localhost:8080/"
    },
    "id": "NZ9eZNfw5k4Y",
    "outputId": "f4b8f797-712b-4aa5-fc45-d45e99eb8e8c"
   },
   "outputs": [
    {
     "data": {
      "text/plain": [
       "review       0\n",
       "sentiment    0\n",
       "dtype: int64"
      ]
     },
     "execution_count": 7,
     "metadata": {
      "tags": []
     },
     "output_type": "execute_result"
    }
   ],
   "source": [
    "df.isna().sum()"
   ]
  },
  {
   "cell_type": "code",
   "execution_count": 8,
   "metadata": {
    "colab": {
     "base_uri": "https://localhost:8080/"
    },
    "id": "4PGJH8PG5k4Y",
    "outputId": "10317ef1-a5e2-4270-8bf5-42f6c16ca911"
   },
   "outputs": [
    {
     "data": {
      "text/plain": [
       "negative    50.0\n",
       "positive    50.0\n",
       "Name: sentiment, dtype: float64"
      ]
     },
     "execution_count": 8,
     "metadata": {
      "tags": []
     },
     "output_type": "execute_result"
    }
   ],
   "source": [
    "df.sentiment.value_counts(normalize=True) * 100"
   ]
  },
  {
   "cell_type": "code",
   "execution_count": 9,
   "metadata": {
    "colab": {
     "base_uri": "https://localhost:8080/",
     "height": 171
    },
    "id": "8LAHy5p85k4Z",
    "outputId": "242dc86d-8801-4017-c5a9-38b9eb84ac6d"
   },
   "outputs": [
    {
     "data": {
      "application/vnd.google.colaboratory.intrinsic+json": {
       "type": "string"
      },
      "text/plain": [
       "'A wonderful little production. <br /><br />The filming technique is very unassuming- very old-time-BBC fashion and gives a comforting, and sometimes discomforting, sense of realism to the entire piece. <br /><br />The actors are extremely well chosen- Michael Sheen not only \"has got all the polari\" but he has all the voices down pat too! You can truly see the seamless editing guided by the references to Williams\\' diary entries, not only is it well worth the watching but it is a terrificly written and performed piece. A masterful production about one of the great master\\'s of comedy and his life. <br /><br />The realism really comes home with the little things: the fantasy of the guard which, rather than use the traditional \\'dream\\' techniques remains solid then disappears. It plays on our knowledge and our senses, particularly with the scenes concerning Orton and Halliwell and the sets (particularly of their flat with Halliwell\\'s murals decorating every surface) are terribly well done.'"
      ]
     },
     "execution_count": 9,
     "metadata": {
      "tags": []
     },
     "output_type": "execute_result"
    }
   ],
   "source": [
    "df.iloc[1,0]"
   ]
  },
  {
   "cell_type": "code",
   "execution_count": 10,
   "metadata": {
    "id": "MEstiBcy5k4Z"
   },
   "outputs": [],
   "source": [
    "# Remove all the break tags\n",
    "df.review = df.review.apply(lambda x: x.replace('<br /><br />', ''))"
   ]
  },
  {
   "cell_type": "code",
   "execution_count": 11,
   "metadata": {
    "id": "pLOD8RsU5k4Z"
   },
   "outputs": [],
   "source": [
    "# Replace sentiments to numbers\n",
    "df.sentiment = df.sentiment.replace({'positive': 1, 'negative': 0})"
   ]
  },
  {
   "cell_type": "code",
   "execution_count": 12,
   "metadata": {
    "colab": {
     "base_uri": "https://localhost:8080/"
    },
    "id": "K7mPVT7k65gB",
    "outputId": "4a442de2-a2e5-4db7-ba61-d22b7d38804e"
   },
   "outputs": [
    {
     "data": {
      "text/plain": [
       "review       object\n",
       "sentiment     int64\n",
       "dtype: object"
      ]
     },
     "execution_count": 12,
     "metadata": {
      "tags": []
     },
     "output_type": "execute_result"
    }
   ],
   "source": [
    "df.dtypes"
   ]
  },
  {
   "cell_type": "code",
   "execution_count": 13,
   "metadata": {
    "colab": {
     "base_uri": "https://localhost:8080/",
     "height": 204
    },
    "id": "pNexahKr5k4Z",
    "outputId": "9e338ca1-4962-4c86-cb81-47455d54ba0b"
   },
   "outputs": [
    {
     "data": {
      "text/html": [
       "<div>\n",
       "<style scoped>\n",
       "    .dataframe tbody tr th:only-of-type {\n",
       "        vertical-align: middle;\n",
       "    }\n",
       "\n",
       "    .dataframe tbody tr th {\n",
       "        vertical-align: top;\n",
       "    }\n",
       "\n",
       "    .dataframe thead th {\n",
       "        text-align: right;\n",
       "    }\n",
       "</style>\n",
       "<table border=\"1\" class=\"dataframe\">\n",
       "  <thead>\n",
       "    <tr style=\"text-align: right;\">\n",
       "      <th></th>\n",
       "      <th>review</th>\n",
       "      <th>sentiment</th>\n",
       "    </tr>\n",
       "  </thead>\n",
       "  <tbody>\n",
       "    <tr>\n",
       "      <th>0</th>\n",
       "      <td>One of the other reviewers has mentioned that ...</td>\n",
       "      <td>1</td>\n",
       "    </tr>\n",
       "    <tr>\n",
       "      <th>1</th>\n",
       "      <td>A wonderful little production. The filming tec...</td>\n",
       "      <td>1</td>\n",
       "    </tr>\n",
       "    <tr>\n",
       "      <th>2</th>\n",
       "      <td>I thought this was a wonderful way to spend ti...</td>\n",
       "      <td>1</td>\n",
       "    </tr>\n",
       "    <tr>\n",
       "      <th>3</th>\n",
       "      <td>Basically there's a family where a little boy ...</td>\n",
       "      <td>0</td>\n",
       "    </tr>\n",
       "    <tr>\n",
       "      <th>4</th>\n",
       "      <td>Petter Mattei's \"Love in the Time of Money\" is...</td>\n",
       "      <td>1</td>\n",
       "    </tr>\n",
       "  </tbody>\n",
       "</table>\n",
       "</div>"
      ],
      "text/plain": [
       "                                              review  sentiment\n",
       "0  One of the other reviewers has mentioned that ...          1\n",
       "1  A wonderful little production. The filming tec...          1\n",
       "2  I thought this was a wonderful way to spend ti...          1\n",
       "3  Basically there's a family where a little boy ...          0\n",
       "4  Petter Mattei's \"Love in the Time of Money\" is...          1"
      ]
     },
     "execution_count": 13,
     "metadata": {
      "tags": []
     },
     "output_type": "execute_result"
    }
   ],
   "source": [
    "df.head()"
   ]
  },
  {
   "cell_type": "markdown",
   "metadata": {
    "id": "g4ssKYYn5k4a"
   },
   "source": [
    "**Histogram plot of string length of Review column**"
   ]
  },
  {
   "cell_type": "code",
   "execution_count": 14,
   "metadata": {
    "colab": {
     "base_uri": "https://localhost:8080/",
     "height": 442
    },
    "id": "BubRiZBg5k4a",
    "outputId": "965f2645-ad5e-4652-887e-8150c1b81c34"
   },
   "outputs": [
    {
     "data": {
      "image/png": "[encoded data removed]",
      "text/plain": [
       "<Figure size 1008x504 with 1 Axes>"
      ]
     },
     "metadata": {
      "tags": []
     },
     "output_type": "display_data"
    }
   ],
   "source": [
    "plt.style.use('seaborn')\n",
    "plt.figure(figsize=(14,7))\n",
    "bins = [0, 500, 1000, 1500, 2000, 2500, 3000, 3500, 4000, 4500, 5000, 5500, 6000]\n",
    "plt.xlabel('Length of ImDB Reviews (String Length)')\n",
    "plt.ylabel('Length Counts')\n",
    "plt.hist(df['review'].apply(lambda x: len(x)).tolist(), bins=bins)\n",
    "plt.show()"
   ]
  },
  {
   "cell_type": "markdown",
   "metadata": {},
   "source": [
    "## Data Transformation"
   ]
  },
  {
   "cell_type": "markdown",
   "metadata": {
    "id": "9TvlUbEh5k4a"
   },
   "source": [
    "**Train/Test Split**"
   ]
  },
  {
   "cell_type": "code",
   "execution_count": 15,
   "metadata": {
    "id": "d_bQJGhk5k4b"
   },
   "outputs": [],
   "source": [
    "train_df = df.iloc[:40000]\n",
    "test_df = df.iloc[40000:]"
   ]
  },
  {
   "cell_type": "code",
   "execution_count": 16,
   "metadata": {
    "id": "9HuXQiF05k4b"
   },
   "outputs": [],
   "source": [
    "sentiment_label = train_df.sentiment.values"
   ]
  },
  {
   "cell_type": "code",
   "execution_count": 17,
   "metadata": {
    "colab": {
     "base_uri": "https://localhost:8080/"
    },
    "id": "Arq-KA355k4b",
    "outputId": "11a8f48a-51a6-4be9-ff64-75a22409be30"
   },
   "outputs": [
    {
     "data": {
      "text/plain": [
       "1285.19726"
      ]
     },
     "execution_count": 17,
     "metadata": {
      "tags": []
     },
     "output_type": "execute_result"
    }
   ],
   "source": [
    "df.review.str.len().mean()"
   ]
  },
  {
   "cell_type": "code",
   "execution_count": 18,
   "metadata": {
    "id": "h20yEnEa5k4b"
   },
   "outputs": [],
   "source": [
    "from tensorflow.keras.preprocessing.text import Tokenizer\n",
    "from tensorflow.keras.preprocessing.sequence import pad_sequences"
   ]
  },
  {
   "cell_type": "code",
   "execution_count": 19,
   "metadata": {
    "id": "mivC7wXe5k4b"
   },
   "outputs": [],
   "source": [
    "reviews = train_df.review.values\n",
    "tokenizer = Tokenizer(num_words=5000, lower=True)\n",
    "tokenizer.fit_on_texts(reviews)\n",
    "vocab_size = len(tokenizer.word_index) + 1\n",
    "encoded_docs = tokenizer.texts_to_sequences(reviews)"
   ]
  },
  {
   "cell_type": "code",
   "execution_count": 20,
   "metadata": {
    "colab": {
     "base_uri": "https://localhost:8080/",
     "height": 361
    },
    "id": "PeyLW0F15k4c",
    "outputId": "a728caab-30ac-4414-b185-cb0c2ee7e87f"
   },
   "outputs": [
    {
     "data": {
      "image/png": "[encoded data removed]",
      "text/plain": [
       "<Figure size 576x396 with 1 Axes>"
      ]
     },
     "metadata": {
      "tags": []
     },
     "output_type": "display_data"
    }
   ],
   "source": [
    "import numpy as np\n",
    "word_len = [len(v) for v in encoded_docs]\n",
    "plt.xlabel('Word lengths in each sentence')\n",
    "plt.ylabel('Occurence Count')\n",
    "plt.hist(word_len, bins=[0,50,100,150,200,250,300,350,400,450,500,550,600,650,700,750,800,850,900,950,1000])\n",
    "plt.show()"
   ]
  },
  {
   "cell_type": "code",
   "execution_count": 21,
   "metadata": {
    "id": "ao_6IsKa5k4c"
   },
   "outputs": [],
   "source": [
    "padded_sequence = pad_sequences(encoded_docs, maxlen=400)"
   ]
  },
  {
   "cell_type": "code",
   "execution_count": 22,
   "metadata": {
    "colab": {
     "base_uri": "https://localhost:8080/"
    },
    "id": "sGLv4nam71G9",
    "outputId": "8723f3ca-a8f9-4ebc-8a5f-4aa773fed97f"
   },
   "outputs": [
    {
     "data": {
      "text/plain": [
       "40000"
      ]
     },
     "execution_count": 22,
     "metadata": {
      "tags": []
     },
     "output_type": "execute_result"
    }
   ],
   "source": [
    "len(padded_sequence)"
   ]
  },
  {
   "cell_type": "code",
   "execution_count": 23,
   "metadata": {
    "colab": {
     "base_uri": "https://localhost:8080/"
    },
    "id": "9SMC5w985k4c",
    "outputId": "e00bcc9b-289a-460e-d24f-3aab59600ffc"
   },
   "outputs": [
    {
     "data": {
      "text/plain": [
       "113952"
      ]
     },
     "execution_count": 23,
     "metadata": {
      "tags": []
     },
     "output_type": "execute_result"
    }
   ],
   "source": [
    "len(tokenizer.word_index)"
   ]
  },
  {
   "cell_type": "code",
   "execution_count": 24,
   "metadata": {
    "colab": {
     "base_uri": "https://localhost:8080/"
    },
    "id": "3Wb6kLIo5k4c",
    "outputId": "ca09bd1d-f15d-421c-cf1c-2cc265322018"
   },
   "outputs": [
    {
     "name": "stdout",
     "output_type": "stream",
     "text": [
      "Probably my all-time favorite movie, a story of selflessness, sacrifice and dedication to a noble cause, but it's not preachy or boring. It just never gets old, despite my having seen it some 15 or more times in the last 25 years. Paul Lukas' performance brings tears to my eyes, and Bette Davis, in one of her very few truly sympathetic roles, is a delight. The kids are, as grandma says, more like \"dressed-up midgets\" than children, but that only makes them more fun to watch. And the mother's slow awakening to what's happening in the world and under her own roof is believable and startling. If I had a dozen thumbs, they'd all be \"up\" for this movie.\n",
      "[238, 55, 28, 54, 514, 16, 3, 63, 4, 4077, 2, 5, 3, 3524, 1131, 17, 43, 20, 37, 346, 8, 38, 110, 213, 154, 459, 55, 261, 106, 8, 45, 1090, 37, 49, 211, 7, 1, 234, 2422, 152, 839, 241, 972, 1690, 5, 55, 511, 2, 3912, 2133, 7, 26, 4, 39, 51, 170, 370, 2205, 585, 6, 3, 3067, 1, 354, 22, 13, 543, 49, 36, 1870, 52, 70, 464, 17, 11, 60, 163, 93, 49, 244, 5, 102, 2, 1, 4308, 559, 5, 768, 1469, 7, 1, 180, 2, 461, 39, 200, 6, 823, 2, 42, 9, 66, 3, 2627, 3611, 3435, 28, 25, 52, 14, 10, 16]\n"
     ]
    }
   ],
   "source": [
    "print(reviews[5])\n",
    "print(encoded_docs[5])"
   ]
  },
  {
   "cell_type": "code",
   "execution_count": 25,
   "metadata": {
    "colab": {
     "base_uri": "https://localhost:8080/"
    },
    "id": "WSqz_bOy5k4d",
    "outputId": "edc59800-ee6a-46d7-9d62-58529f568a12"
   },
   "outputs": [
    {
     "name": "stdout",
     "output_type": "stream",
     "text": [
      "[   0    0    0    0    0    0    0    0    0    0    0    0    0    0\n",
      "    0    0    0    0    0    0    0    0    0    0    0    0    0    0\n",
      "    0    0    0    0    0    0    0    0    0    0    0    0    0    0\n",
      "    0    0    0    0    0    0    0    0    0    0    0    0    0    0\n",
      "    0    0    0    0    0    0    0    0    0    0    0    0    0    0\n",
      "    0    0    0    0    0    0    0    0    0    0    0    0    0    0\n",
      "    0    0    0    0    0    0    0    0    0    0    0    0    0    0\n",
      "    0    0    0    0    0    0    0    0    0    0    0    0    0    0\n",
      "    0    0    0    0    0    0    0    0    0    0    0    0    0    0\n",
      "    0    0    0    0   26    4    1   79 2101   44 1072   11   99  146\n",
      "   38  316 2966  408  455   25 3172   32   22  199   13   10    6  613\n",
      "   47  604   15   67    1   86  147   11 3252   67   40 2966   12   91\n",
      "    2  133    4  570   59  270    7  199   35    1  672  138 1713   67\n",
      "   10    6   20    3  117   14    1 2262   37   10  117 2491   53   15\n",
      "    5 1437  376   37  570   91    6 3729    7    1  359  352    4    1\n",
      "  672    8    6  430 2966   13   11    6    1  355    5    1 2601 1085\n",
      "    8 2657 1431   19  534   31 4821 2450    4    1 1190  116   28    1\n",
      "   24 2881    2  391   33    6   20  303   19    1 4822  534    6  345\n",
      "    5  105 4717 2304    2   49   33  325    2   22  110  225  240    9\n",
      "   57  131    1  281 1316    4    1  117    6  686    5    1  191   11\n",
      "    8  271  116   79  275  597 3074  837  178 1351 4332   14 2492 1220\n",
      "  837 1432  837  884 2966  151  974  182    1   86  408    9  122  209\n",
      " 3252   67   13   33 1611    8   12 2295    9  420  131    9   12 1607\n",
      "   14    8   17   13    9  286   49    9 1447    3 1305   14 2966    2\n",
      "  190    5    1  303 2076    4 2201  570   20   38  570   17   25 2852\n",
      "   41   14    3  510   19  634    2   74  240   15    8   68  663  703\n",
      "  108  658   82 1190  686    5   64  569    4  906 2116   37 1190  552\n",
      "  146 2966   21  203  431 3710   15   47    6 3401  803 1639   42   21\n",
      "   65   74    7 1200   15  125 4176  487]\n"
     ]
    }
   ],
   "source": [
    "print(padded_sequence[0])"
   ]
  },
  {
   "cell_type": "markdown",
   "metadata": {
    "id": "6fW3zNbY5k4d"
   },
   "source": [
    "## Build Model"
   ]
  },
  {
   "cell_type": "markdown",
   "metadata": {
    "id": "3gFTU54yDnal"
   },
   "source": [
    "### RNN"
   ]
  },
  {
   "cell_type": "code",
   "execution_count": 40,
   "metadata": {
    "colab": {
     "base_uri": "https://localhost:8080/"
    },
    "id": "2eDemVBDDrmX",
    "outputId": "eab20b56-0c86-4588-d75c-a794f3efdb07"
   },
   "outputs": [
    {
     "name": "stdout",
     "output_type": "stream",
     "text": [
      "Model: \"sequential_7\"\n",
      "_________________________________________________________________\n",
      "Layer (type)                 Output Shape              Param #   \n",
      "=================================================================\n",
      "embedding_7 (Embedding)      (None, 400, 32)           160000    \n",
      "_________________________________________________________________\n",
      "spatial_dropout1d_4 (Spatial (None, 400, 32)           0         \n",
      "_________________________________________________________________\n",
      "simple_rnn_7 (SimpleRNN)     (None, 128)               20608     \n",
      "_________________________________________________________________\n",
      "dropout_7 (Dropout)          (None, 128)               0         \n",
      "_________________________________________________________________\n",
      "dense_7 (Dense)              (None, 1)                 129       \n",
      "=================================================================\n",
      "Total params: 180,737\n",
      "Trainable params: 180,737\n",
      "Non-trainable params: 0\n",
      "_________________________________________________________________\n",
      "None\n"
     ]
    }
   ],
   "source": [
    "from tensorflow.keras.models import Sequential\n",
    "from tensorflow.keras.layers import SimpleRNN, Dense, Dropout\n",
    "from tensorflow.keras.layers import SpatialDropout1D\n",
    "from tensorflow.keras.layers import Embedding\n",
    "from tensorflow.keras.callbacks import EarlyStopping\n",
    "from tensorflow.keras.callbacks import ModelCheckpoint\n",
    "\n",
    "embedding_vector_length = 32\n",
    "\n",
    "rnn_model = Sequential()\n",
    "rnn_model.add(Embedding(5000, embedding_vector_length, input_length=400))\n",
    "\n",
    "rnn_model.add(SpatialDropout1D(0.25))\n",
    "\n",
    "rnn_model.add(SimpleRNN(128, dropout=0.5, recurrent_dropout=0.5))\n",
    "\n",
    "rnn_model.add(Dropout(0.2))\n",
    "\n",
    "rnn_model.add(Dense(1, activation='sigmoid'))\n",
    "\n",
    "# Callbacks\n",
    "es = EarlyStopping(monitor='val_loss', patience=5)\n",
    "model_ckp = ModelCheckpoint('/content/drive/MyDrive/Kaggle/imdb_sentiment_analysis/rnn_best_model.h5',\n",
    "                            save_best_only=True,\n",
    "                            monitor='val_loss',\n",
    "                            mode='auto')\n",
    "\n",
    "rnn_model.compile(loss='binary_crossentropy',\n",
    "              optimizer='adam', \n",
    "              metrics=['accuracy'])\n",
    "\n",
    "print(rnn_model.summary())"
   ]
  },
  {
   "cell_type": "markdown",
   "metadata": {
    "id": "TjXOLlv6Eniu"
   },
   "source": [
    "**Training**"
   ]
  },
  {
   "cell_type": "code",
   "execution_count": 41,
   "metadata": {
    "colab": {
     "base_uri": "https://localhost:8080/"
    },
    "id": "UDlTImwrEppq",
    "outputId": "50af18ef-fdd6-43cd-9c21-b532ed2c823d"
   },
   "outputs": [
    {
     "name": "stdout",
     "output_type": "stream",
     "text": [
      "Epoch 1/20\n",
      "1000/1000 [==============================] - 143s 143ms/step - loss: 0.7438 - accuracy: 0.4999 - val_loss: 0.6947 - val_accuracy: 0.4974\n",
      "Epoch 2/20\n",
      "1000/1000 [==============================] - 143s 143ms/step - loss: 0.6985 - accuracy: 0.4948 - val_loss: 0.6932 - val_accuracy: 0.4980\n",
      "Epoch 3/20\n",
      "1000/1000 [==============================] - 144s 144ms/step - loss: 0.6945 - accuracy: 0.5072 - val_loss: 0.6942 - val_accuracy: 0.5026\n",
      "Epoch 4/20\n",
      "1000/1000 [==============================] - 143s 143ms/step - loss: 0.6950 - accuracy: 0.5031 - val_loss: 0.6957 - val_accuracy: 0.4981\n",
      "Epoch 5/20\n",
      "1000/1000 [==============================] - 145s 145ms/step - loss: 0.6956 - accuracy: 0.4967 - val_loss: 0.6962 - val_accuracy: 0.5026\n",
      "Epoch 6/20\n",
      "1000/1000 [==============================] - 142s 142ms/step - loss: 0.6953 - accuracy: 0.5018 - val_loss: 0.6947 - val_accuracy: 0.4974\n",
      "Epoch 7/20\n",
      "1000/1000 [==============================] - 142s 142ms/step - loss: 0.6954 - accuracy: 0.4992 - val_loss: 0.6941 - val_accuracy: 0.4974\n"
     ]
    }
   ],
   "source": [
    "history_rnn = rnn_model.fit(padded_sequence,\n",
    "                          sentiment_label,\n",
    "                          validation_split=0.2,\n",
    "                          callbacks=[es, model_ckp],\n",
    "                          epochs=20,\n",
    "                          batch_size=32)"
   ]
  },
  {
   "cell_type": "markdown",
   "metadata": {
    "id": "zpB5F2Z6DbMG"
   },
   "source": [
    "### LSTM"
   ]
  },
  {
   "cell_type": "code",
   "execution_count": null,
   "metadata": {
    "colab": {
     "base_uri": "https://localhost:8080/"
    },
    "id": "_myKvj7f5k4d",
    "outputId": "79bf9895-1539-48e4-dd9e-aaa17734ecdb"
   },
   "outputs": [
    {
     "name": "stdout",
     "output_type": "stream",
     "text": [
      "Model: \"sequential_1\"\n",
      "_________________________________________________________________\n",
      "Layer (type)                 Output Shape              Param #   \n",
      "=================================================================\n",
      "embedding_1 (Embedding)      (None, 400, 32)           3646496   \n",
      "_________________________________________________________________\n",
      "spatial_dropout1d_1 (Spatial (None, 400, 32)           0         \n",
      "_________________________________________________________________\n",
      "lstm_1 (LSTM)                (None, 50)                16600     \n",
      "_________________________________________________________________\n",
      "dropout_1 (Dropout)          (None, 50)                0         \n",
      "_________________________________________________________________\n",
      "dense_1 (Dense)              (None, 1)                 51        \n",
      "=================================================================\n",
      "Total params: 3,663,147\n",
      "Trainable params: 3,663,147\n",
      "Non-trainable params: 0\n",
      "_________________________________________________________________\n",
      "None\n"
     ]
    }
   ],
   "source": [
    "from tensorflow.keras.models import Sequential\n",
    "from tensorflow.keras.layers import LSTM, Dense, Dropout\n",
    "from tensorflow.keras.layers import SpatialDropout1D\n",
    "from tensorflow.keras.layers import Embedding\n",
    "from tensorflow.keras.callbacks import EarlyStopping\n",
    "from tensorflow.keras.callbacks import ModelCheckpoint\n",
    "#from tensorflow.compat.v1.keras.layers import CuDNNLSTM\n",
    "\n",
    "embedding_vector_length = 32\n",
    "\n",
    "model = Sequential()\n",
    "model.add(Embedding(vocab_size, embedding_vector_length, input_length=400))\n",
    "\n",
    "model.add(SpatialDropout1D(0.25))\n",
    "\n",
    "model.add(LSTM(50, dropout=0.5, recurrent_dropout=0.5))\n",
    "\n",
    "model.add(Dropout(0.2))\n",
    "\n",
    "model.add(Dense(1, activation='sigmoid'))\n",
    "\n",
    "# Callbacks\n",
    "es = EarlyStopping(monitor='val_loss', patience=5)\n",
    "model_ckp = ModelCheckpoint('best_model.h5', save_best_only=True, monitor='val_loss', mode='auto')\n",
    "\n",
    "model.compile(loss='binary_crossentropy',\n",
    "              optimizer='adam', \n",
    "              metrics=['accuracy'])\n",
    "\n",
    "print(model.summary())"
   ]
  },
  {
   "cell_type": "markdown",
   "metadata": {
    "id": "i4F3jCTT6fMd"
   },
   "source": [
    "**Training**"
   ]
  },
  {
   "cell_type": "code",
   "execution_count": null,
   "metadata": {
    "colab": {
     "base_uri": "https://localhost:8080/"
    },
    "id": "0YCnLF6M5k4d",
    "outputId": "a44c70e8-20da-4644-e20c-5c990ed48c9b"
   },
   "outputs": [
    {
     "name": "stdout",
     "output_type": "stream",
     "text": [
      "Epoch 1/20\n",
      "1000/1000 [==============================] - 315s 315ms/step - loss: 0.4430 - accuracy: 0.7877 - val_loss: 0.3160 - val_accuracy: 0.8712\n",
      "Epoch 2/20\n",
      "1000/1000 [==============================] - 314s 314ms/step - loss: 0.3188 - accuracy: 0.8708 - val_loss: 0.3641 - val_accuracy: 0.8579\n",
      "Epoch 3/20\n",
      "1000/1000 [==============================] - 317s 317ms/step - loss: 0.3046 - accuracy: 0.8840 - val_loss: 0.3083 - val_accuracy: 0.8836\n",
      "Epoch 4/20\n",
      "1000/1000 [==============================] - 357s 357ms/step - loss: 0.2621 - accuracy: 0.9005 - val_loss: 0.2875 - val_accuracy: 0.8848\n",
      "Epoch 5/20\n",
      "1000/1000 [==============================] - 340s 340ms/step - loss: 0.2415 - accuracy: 0.9066 - val_loss: 0.3156 - val_accuracy: 0.8805\n",
      "Epoch 6/20\n",
      "1000/1000 [==============================] - 329s 329ms/step - loss: 0.2304 - accuracy: 0.9111 - val_loss: 0.2908 - val_accuracy: 0.8860\n",
      "Epoch 7/20\n",
      "1000/1000 [==============================] - 339s 339ms/step - loss: 0.2263 - accuracy: 0.9122 - val_loss: 0.3183 - val_accuracy: 0.8824\n",
      "Epoch 8/20\n",
      "1000/1000 [==============================] - 324s 324ms/step - loss: 0.2198 - accuracy: 0.9143 - val_loss: 0.3915 - val_accuracy: 0.8721\n",
      "Epoch 9/20\n",
      "1000/1000 [==============================] - 325s 325ms/step - loss: 0.2050 - accuracy: 0.9202 - val_loss: 0.3055 - val_accuracy: 0.8863\n"
     ]
    }
   ],
   "source": [
    "history = model.fit(padded_sequence,\n",
    "                   sentiment_label,\n",
    "                   validation_split=0.2,\n",
    "                   callbacks=[es, model_ckp],\n",
    "                   epochs=20,\n",
    "                   batch_size=32)"
   ]
  },
  {
   "cell_type": "code",
   "execution_count": null,
   "metadata": {
    "colab": {
     "base_uri": "https://localhost:8080/",
     "height": 347
    },
    "id": "NgLsxSX02APx",
    "outputId": "32ec2f02-a48f-41bd-bf56-1c34d13d233a"
   },
   "outputs": [
    {
     "data": {
      "image/png": "[encoded data removed]",
      "text/plain": [
       "<Figure size 576x396 with 1 Axes>"
      ]
     },
     "metadata": {
      "tags": []
     },
     "output_type": "display_data"
    }
   ],
   "source": [
    "plt.plot(history.history['accuracy'], label='acc')\n",
    "plt.plot(history.history['val_accuracy'], label='val_acc')\n",
    "plt.legend()\n",
    "plt.show()"
   ]
  },
  {
   "cell_type": "code",
   "execution_count": null,
   "metadata": {
    "colab": {
     "base_uri": "https://localhost:8080/",
     "height": 347
    },
    "id": "Q1jpRfHk2UCD",
    "outputId": "6834039c-621b-4f0e-f9f6-344e3897a4e6"
   },
   "outputs": [
    {
     "data": {
      "image/png": "[encoded data removed]",
      "text/plain": [
       "<Figure size 576x396 with 1 Axes>"
      ]
     },
     "metadata": {
      "tags": []
     },
     "output_type": "display_data"
    }
   ],
   "source": [
    "plt.plot(history.history['loss'], label='loss')\n",
    "plt.plot(history.history['val_loss'], label='val_loss')\n",
    "plt.legend()\n",
    "plt.show()"
   ]
  },
  {
   "cell_type": "markdown",
   "metadata": {
    "id": "aZGow7xgr4iK"
   },
   "source": [
    "## Evaluation (LSTM)"
   ]
  },
  {
   "cell_type": "code",
   "execution_count": null,
   "metadata": {
    "id": "8b7DC_q95k4d"
   },
   "outputs": [],
   "source": [
    "test_reviews = test_df.review.values\n",
    "\n",
    "test_encoded_docs = tokenizer.texts_to_sequences(test_reviews)\n",
    "test_padded_sequence = pad_sequences(test_encoded_docs, maxlen=400)\n",
    "test_sentiment_label = test_df.sentiment.values"
   ]
  },
  {
   "cell_type": "code",
   "execution_count": null,
   "metadata": {
    "colab": {
     "base_uri": "https://localhost:8080/"
    },
    "id": "rbHTi5a4lpVc",
    "outputId": "6368c294-dc07-4aa0-907e-860e68605a5e"
   },
   "outputs": [
    {
     "name": "stdout",
     "output_type": "stream",
     "text": [
      "313/313 [==============================] - 14s 44ms/step - loss: 0.2992 - accuracy: 0.8879\n"
     ]
    }
   ],
   "source": [
    "eval = model.evaluate(test_padded_sequence,\n",
    "                      test_sentiment_label,\n",
    "                      batch_size=32)"
   ]
  },
  {
   "cell_type": "markdown",
   "metadata": {
    "id": "WVUBOhn36QTL"
   },
   "source": [
    "**Saving Tokenizer**"
   ]
  },
  {
   "cell_type": "code",
   "execution_count": null,
   "metadata": {
    "id": "hMhLl9ns4VHi"
   },
   "outputs": [],
   "source": [
    "import json\n",
    "tokenizer_json = tokenizer.to_json()\n",
    "with open('tokenizer.json', 'w', encoding='utf-8') as f:\n",
    "    f.write(json.dumps(tokenizer_json, ensure_ascii=False))"
   ]
  },
  {
   "cell_type": "markdown",
   "metadata": {
    "id": "gW3dzssR8Iw_"
   },
   "source": [
    "**Single Review Prediction**"
   ]
  },
  {
   "cell_type": "code",
   "execution_count": null,
   "metadata": {
    "colab": {
     "base_uri": "https://localhost:8080/"
    },
    "id": "_qLuwind5l6A",
    "outputId": "9b8e0497-e504-484d-c3e3-0aec23c20a8b"
   },
   "outputs": [
    {
     "name": "stdout",
     "output_type": "stream",
     "text": [
      "positive\n"
     ]
    }
   ],
   "source": [
    "from keras.preprocessing.text import tokenizer_from_json\n",
    "from keras.models import load_model\n",
    "from tensorflow.keras.preprocessing.sequence import pad_sequences\n",
    "import json\n",
    "import os\n",
    "\n",
    "def load_tokenizer(path):\n",
    "    with open(os.path.join(path,'tokenizer.json')) as f:\n",
    "        data = json.load(f)\n",
    "        loaded_tokenizer = tokenizer_from_json(data)\n",
    "    return loaded_tokenizer\n",
    "\n",
    "def preprocess_input(text_input, tokenizer):\n",
    "    trs = tokenizer.texts_to_sequences([text_input])\n",
    "    trs = pad_sequences(trs, maxlen=400)\n",
    "    return trs\n",
    "\n",
    "def predict_sentiment(model, encoded_input):\n",
    "    prediction = model.predict(encoded_input).round().item()\n",
    "    if prediction == 1:\n",
    "        return 'positive'\n",
    "    else:\n",
    "        return 'negative'\n",
    "\n",
    "\n",
    "if __name__ == '__main__':\n",
    "    review_sent = \"I watched 'The Crown' yesterday and it was a fantastic movie!\"\n",
    "    \n",
    "    path = './model'\n",
    "    tokenizer = load_tokenizer(path)\n",
    "    \n",
    "    loaded_model = load_model(os.path.join(path,'best_model.h5'))\n",
    "    encoded_input = preprocess_input(review_sent, tokenizer)\n",
    "    \n",
    "    sentiment = predict_sentiment(loaded_model, encoded_input)\n",
    "    print(sentiment)"
   ]
  }
 ],
 "metadata": {
  "colab": {
   "name": "imdb_sentiment_analysis.ipynb",
   "provenance": []
  },
  "kernelspec": {
   "display_name": "Python 3",
   "language": "python",
   "name": "python3"
  },
  "language_info": {
   "codemirror_mode": {
    "name": "ipython",
    "version": 3
   },
   "file_extension": ".py",
   "mimetype": "text/x-python",
   "name": "python",
   "nbconvert_exporter": "python",
   "pygments_lexer": "ipython3",
   "version": "3.7.9"
  }
 },
 "nbformat": 4,
 "nbformat_minor": 1
}
